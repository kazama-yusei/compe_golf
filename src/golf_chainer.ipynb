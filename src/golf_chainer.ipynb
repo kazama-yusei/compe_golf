{
 "cells": [
  {
   "cell_type": "code",
   "execution_count": null,
   "id": "b064c0ff",
   "metadata": {},
   "outputs": [
    {
     "name": "stdout",
     "output_type": "stream",
     "text": [
      "Requirement already satisfied: chainer==3.3.0 in /Users/user/opt/anaconda3/lib/python3.8/site-packages (3.3.0)\n",
      "Requirement already satisfied: protobuf>=3.0.0 in /Users/user/opt/anaconda3/lib/python3.8/site-packages (from chainer==3.3.0) (3.17.3)\n",
      "Requirement already satisfied: six>=1.9.0 in /Users/user/opt/anaconda3/lib/python3.8/site-packages (from chainer==3.3.0) (1.15.0)\n",
      "Requirement already satisfied: numpy>=1.9.0 in /Users/user/opt/anaconda3/lib/python3.8/site-packages (from chainer==3.3.0) (1.20.1)\n",
      "Requirement already satisfied: filelock in /Users/user/opt/anaconda3/lib/python3.8/site-packages (from chainer==3.3.0) (3.0.12)\n",
      "Collecting matplotlib==2.1.0\n",
      "  Using cached matplotlib-2.1.0.tar.gz (35.7 MB)\n",
      "\u001b[31m    ERROR: Command errored out with exit status 1:\n",
      "     command: /Users/user/opt/anaconda3/bin/python -c 'import sys, setuptools, tokenize; sys.argv[0] = '\"'\"'/private/var/folders/23/3hzsqvdx5g76284p88kgw8dr0000gn/T/pip-install-ifwlvym4/matplotlib_351439b17cfe44e1be2964b4073560e7/setup.py'\"'\"'; __file__='\"'\"'/private/var/folders/23/3hzsqvdx5g76284p88kgw8dr0000gn/T/pip-install-ifwlvym4/matplotlib_351439b17cfe44e1be2964b4073560e7/setup.py'\"'\"';f=getattr(tokenize, '\"'\"'open'\"'\"', open)(__file__);code=f.read().replace('\"'\"'\\r\\n'\"'\"', '\"'\"'\\n'\"'\"');f.close();exec(compile(code, __file__, '\"'\"'exec'\"'\"'))' egg_info --egg-base /private/var/folders/23/3hzsqvdx5g76284p88kgw8dr0000gn/T/pip-pip-egg-info-fpeh6swu\n",
      "         cwd: /private/var/folders/23/3hzsqvdx5g76284p88kgw8dr0000gn/T/pip-install-ifwlvym4/matplotlib_351439b17cfe44e1be2964b4073560e7/\n",
      "    Complete output (162 lines):\n",
      "    IMPORTANT WARNING:\n",
      "        pkg-config is not installed.\n",
      "        matplotlib may not be able to find some of its dependencies\n",
      "    ============================================================================\n",
      "    Edit setup.cfg to change the build options\n",
      "    \n",
      "    BUILDING MATPLOTLIB\n",
      "                matplotlib: yes [2.1.0]\n",
      "                    python: yes [3.8.8 (default, Apr 13 2021, 12:59:45)  [Clang\n",
      "                            10.0.0 ]]\n",
      "                  platform: yes [darwin]\n",
      "    \n",
      "    REQUIRED DEPENDENCIES AND EXTENSIONS\n",
      "                     numpy: yes [version 1.20.1]\n",
      "                       six: yes [using six version 1.15.0]\n",
      "                  dateutil: yes [using dateutil version 2.8.1]\n",
      "    backports.functools_lru_cache: yes [Not required]\n",
      "              subprocess32: yes [Not required]\n",
      "                      pytz: yes [using pytz version 2021.1]\n",
      "                    cycler: yes [using cycler version 0.10.0]\n",
      "                   tornado: yes [using tornado version 6.1]\n",
      "                 pyparsing: yes [using pyparsing version 2.4.7]\n",
      "                    libagg: yes [pkg-config information for 'libagg' could not\n",
      "                            be found. Using local copy.]\n",
      "                  freetype: no  [The C/C++ header for freetype2 (ft2build.h)\n",
      "                            could not be found.  You may need to install the\n",
      "                            development package.]\n",
      "                       png: yes [version 1.6.37]\n",
      "                     qhull: yes [pkg-config information for 'libqhull' could not\n",
      "                            be found. Using local copy.]\n",
      "    \n",
      "    OPTIONAL SUBPACKAGES\n",
      "               sample_data: yes [installing]\n",
      "                  toolkits: yes [installing]\n",
      "                     tests: no  [skipping due to configuration]\n",
      "            toolkits_tests: no  [skipping due to configuration]\n",
      "    \n",
      "    OPTIONAL BACKEND EXTENSIONS\n",
      "                    macosx: yes [installing, darwin]\n",
      "    IMPORTANT WARNING:\n",
      "        pkg-config is not installed.\n",
      "        matplotlib may not be able to find some of its dependencies\n",
      "    IMPORTANT WARNING:\n",
      "        pkg-config is not installed.\n",
      "        matplotlib may not be able to find some of its dependencies\n",
      "    IMPORTANT WARNING:\n",
      "        pkg-config is not installed.\n",
      "        matplotlib may not be able to find some of its dependencies\n",
      "    IMPORTANT WARNING:\n",
      "        pkg-config is not installed.\n",
      "        matplotlib may not be able to find some of its dependencies\n",
      "    IMPORTANT WARNING:\n",
      "        pkg-config is not installed.\n",
      "        matplotlib may not be able to find some of its dependencies\n",
      "    IMPORTANT WARNING:\n",
      "        pkg-config is not installed.\n",
      "        matplotlib may not be able to find some of its dependencies\n",
      "    IMPORTANT WARNING:\n",
      "        pkg-config is not installed.\n",
      "        matplotlib may not be able to find some of its dependencies\n",
      "    IMPORTANT WARNING:\n",
      "        pkg-config is not installed.\n",
      "        matplotlib may not be able to find some of its dependencies\n",
      "                    qt5agg: yes [installing, Qt: 5.9.7, PyQt: 5.9.7; PySide2 not\n",
      "                            found]\n",
      "    IMPORTANT WARNING:\n",
      "        pkg-config is not installed.\n",
      "        matplotlib may not be able to find some of its dependencies\n",
      "    IMPORTANT WARNING:\n",
      "        pkg-config is not installed.\n",
      "        matplotlib may not be able to find some of its dependencies\n",
      "    IMPORTANT WARNING:\n",
      "        pkg-config is not installed.\n",
      "        matplotlib may not be able to find some of its dependencies\n",
      "    IMPORTANT WARNING:\n",
      "        pkg-config is not installed.\n",
      "        matplotlib may not be able to find some of its dependencies\n",
      "    IMPORTANT WARNING:\n",
      "        pkg-config is not installed.\n",
      "        matplotlib may not be able to find some of its dependencies\n",
      "    IMPORTANT WARNING:\n",
      "        pkg-config is not installed.\n",
      "        matplotlib may not be able to find some of its dependencies\n",
      "    IMPORTANT WARNING:\n",
      "        pkg-config is not installed.\n",
      "        matplotlib may not be able to find some of its dependencies\n",
      "    IMPORTANT WARNING:\n",
      "        pkg-config is not installed.\n",
      "        matplotlib may not be able to find some of its dependencies\n",
      "                    qt4agg: no  [PySide not found; PyQt4 not found]\n",
      "    IMPORTANT WARNING:\n",
      "        pkg-config is not installed.\n",
      "        matplotlib may not be able to find some of its dependencies\n",
      "    IMPORTANT WARNING:\n",
      "        pkg-config is not installed.\n",
      "        matplotlib may not be able to find some of its dependencies\n",
      "    IMPORTANT WARNING:\n",
      "        pkg-config is not installed.\n",
      "        matplotlib may not be able to find some of its dependencies\n",
      "    IMPORTANT WARNING:\n",
      "        pkg-config is not installed.\n",
      "        matplotlib may not be able to find some of its dependencies\n",
      "    IMPORTANT WARNING:\n",
      "        pkg-config is not installed.\n",
      "        matplotlib may not be able to find some of its dependencies\n",
      "    IMPORTANT WARNING:\n",
      "        pkg-config is not installed.\n",
      "        matplotlib may not be able to find some of its dependencies\n",
      "    IMPORTANT WARNING:\n",
      "        pkg-config is not installed.\n",
      "        matplotlib may not be able to find some of its dependencies\n",
      "    IMPORTANT WARNING:\n",
      "        pkg-config is not installed.\n",
      "        matplotlib may not be able to find some of its dependencies\n",
      "                   gtk3agg: no  [Requires pygobject to be installed.]\n",
      "    IMPORTANT WARNING:\n",
      "        pkg-config is not installed.\n",
      "        matplotlib may not be able to find some of its dependencies\n",
      "    IMPORTANT WARNING:\n",
      "        pkg-config is not installed.\n",
      "        matplotlib may not be able to find some of its dependencies\n",
      "    IMPORTANT WARNING:\n",
      "        pkg-config is not installed.\n",
      "        matplotlib may not be able to find some of its dependencies\n",
      "    IMPORTANT WARNING:\n",
      "        pkg-config is not installed.\n",
      "        matplotlib may not be able to find some of its dependencies\n",
      "    IMPORTANT WARNING:\n",
      "        pkg-config is not installed.\n",
      "        matplotlib may not be able to find some of its dependencies\n",
      "    IMPORTANT WARNING:\n",
      "        pkg-config is not installed.\n",
      "        matplotlib may not be able to find some of its dependencies\n",
      "    IMPORTANT WARNING:\n",
      "        pkg-config is not installed.\n",
      "        matplotlib may not be able to find some of its dependencies\n",
      "    IMPORTANT WARNING:\n",
      "        pkg-config is not installed.\n",
      "        matplotlib may not be able to find some of its dependencies\n",
      "                 gtk3cairo: no  [Requires cairocffi or pycairo to be installed.]\n",
      "                    gtkagg: no  [Requires pygtk]\n",
      "                     tkagg: yes [installing; run-time loading from Python Tcl /\n",
      "                            Tk]\n",
      "                     wxagg: no  [requires wxPython]\n",
      "                       gtk: no  [Requires pygtk]\n",
      "                       agg: yes [installing]\n",
      "                     cairo: no  [cairocffi or pycairo not found]\n",
      "                 windowing: no  [Microsoft Windows only]\n",
      "    \n",
      "    OPTIONAL LATEX DEPENDENCIES\n",
      "                    dvipng: no\n",
      "               ghostscript: no\n",
      "                     latex: no\n",
      "                   pdftops: no\n",
      "    \n",
      "    OPTIONAL PACKAGE DATA\n",
      "                      dlls: no  [skipping due to configuration]\n",
      "    \n",
      "    ============================================================================\n",
      "                            * The following required packages can not be built:\n",
      "                            * freetype * Try installing freetype with `brew\n",
      "                            * install freetype`\n",
      "    ----------------------------------------\u001b[0m\n",
      "\u001b[33mWARNING: Discarding https://files.pythonhosted.org/packages/6c/90/cf10bb2020d2811da811a49601f6eafcda022c6ccd296fd05aba093dee96/matplotlib-2.1.0.tar.gz#sha256=4b5f16c9cefde553ea79975305dcaa67c8e13d927b6e55aa14b4a8d867e25387 (from https://pypi.org/simple/matplotlib/). Command errored out with exit status 1: python setup.py egg_info Check the logs for full command output.\u001b[0m\n",
      "\u001b[31mERROR: Could not find a version that satisfies the requirement matplotlib==2.1.0\u001b[0m\n",
      "\u001b[31mERROR: No matching distribution found for matplotlib==2.1.0\u001b[0m\n"
     ]
    },
    {
     "name": "stdout",
     "output_type": "stream",
     "text": [
      "Collecting package metadata (current_repodata.json): done\n",
      "Solving environment: done\n",
      "\n",
      "## Package Plan ##\n",
      "\n",
      "  environment location: /Users/user/opt/anaconda3\n",
      "\n",
      "  added / updated specs:\n",
      "    - seaborn\n",
      "\n",
      "\n",
      "The following packages will be downloaded:\n",
      "\n",
      "    package                    |            build\n",
      "    ---------------------------|-----------------\n",
      "    conda-4.10.3               |   py38hecd8cb5_0         2.9 MB\n",
      "    ------------------------------------------------------------\n",
      "                                           Total:         2.9 MB\n",
      "\n",
      "The following packages will be UPDATED:\n",
      "\n",
      "  conda                               4.10.1-py38hecd8cb5_1 --> 4.10.3-py38hecd8cb5_0\n",
      "\n",
      "\n",
      "Proceed ([y]/n)? "
     ]
    }
   ],
   "source": [
    "!pip install chainer==3.3.0\n",
    "!pip install matplotlib==2.1.0\n",
    "!conda install seaborn"
   ]
  },
  {
   "cell_type": "code",
   "execution_count": 2,
   "id": "df7cb1b6",
   "metadata": {},
   "outputs": [
    {
     "name": "stdout",
     "output_type": "stream",
     "text": [
      "Requirement already satisfied: scikit-image in /Users/user/opt/anaconda3/envs/MARS/lib/python3.6/site-packages (0.17.2)\n",
      "Requirement already satisfied: PyWavelets>=1.1.1 in /Users/user/opt/anaconda3/envs/MARS/lib/python3.6/site-packages (from scikit-image) (1.1.1)\n",
      "Requirement already satisfied: matplotlib!=3.0.0,>=2.0.0 in /Users/user/opt/anaconda3/envs/MARS/lib/python3.6/site-packages (from scikit-image) (2.1.0)\n",
      "Requirement already satisfied: numpy>=1.15.1 in /Users/user/opt/anaconda3/envs/MARS/lib/python3.6/site-packages (from scikit-image) (1.19.5)\n",
      "Requirement already satisfied: imageio>=2.3.0 in /Users/user/opt/anaconda3/envs/MARS/lib/python3.6/site-packages (from scikit-image) (2.9.0)\n",
      "Requirement already satisfied: scipy>=1.0.1 in /Users/user/opt/anaconda3/envs/MARS/lib/python3.6/site-packages (from scikit-image) (1.5.4)\n",
      "Requirement already satisfied: tifffile>=2019.7.26 in /Users/user/opt/anaconda3/envs/MARS/lib/python3.6/site-packages (from scikit-image) (2020.9.3)\n",
      "Requirement already satisfied: networkx>=2.0 in /Users/user/opt/anaconda3/envs/MARS/lib/python3.6/site-packages (from scikit-image) (2.5.1)\n",
      "Requirement already satisfied: pillow!=7.1.0,!=7.1.1,>=4.3.0 in /Users/user/opt/anaconda3/envs/MARS/lib/python3.6/site-packages (from scikit-image) (8.3.0)\n",
      "Requirement already satisfied: python-dateutil>=2.0 in /Users/user/opt/anaconda3/envs/MARS/lib/python3.6/site-packages (from matplotlib!=3.0.0,>=2.0.0->scikit-image) (2.8.1)\n",
      "Requirement already satisfied: pyparsing!=2.0.4,!=2.1.2,!=2.1.6,>=2.0.1 in /Users/user/opt/anaconda3/envs/MARS/lib/python3.6/site-packages (from matplotlib!=3.0.0,>=2.0.0->scikit-image) (2.4.7)\n",
      "Requirement already satisfied: pytz in /Users/user/opt/anaconda3/envs/MARS/lib/python3.6/site-packages (from matplotlib!=3.0.0,>=2.0.0->scikit-image) (2021.1)\n",
      "Requirement already satisfied: six>=1.10 in /Users/user/opt/anaconda3/envs/MARS/lib/python3.6/site-packages (from matplotlib!=3.0.0,>=2.0.0->scikit-image) (1.16.0)\n",
      "Requirement already satisfied: cycler>=0.10 in /Users/user/opt/anaconda3/envs/MARS/lib/python3.6/site-packages (from matplotlib!=3.0.0,>=2.0.0->scikit-image) (0.10.0)\n",
      "Requirement already satisfied: decorator<5,>=4.3 in /Users/user/opt/anaconda3/envs/MARS/lib/python3.6/site-packages (from networkx>=2.0->scikit-image) (4.4.2)\n",
      "Note: you may need to restart the kernel to use updated packages.\n"
     ]
    }
   ],
   "source": [
    "pip install scikit-image --upgrade"
   ]
  },
  {
   "cell_type": "code",
   "execution_count": 60,
   "id": "194f373d",
   "metadata": {},
   "outputs": [
    {
     "name": "stdout",
     "output_type": "stream",
     "text": [
      "Package                            Version\r\n",
      "---------------------------------- -------------------\r\n",
      "alabaster                          0.7.12\r\n",
      "anaconda-client                    1.7.2\r\n",
      "anaconda-navigator                 2.0.3\r\n",
      "anaconda-project                   0.9.1\r\n",
      "anyio                              2.2.0\r\n",
      "appdirs                            1.4.4\r\n",
      "applaunchservices                  0.2.1\r\n",
      "appnope                            0.1.2\r\n",
      "appscript                          1.1.2\r\n",
      "argh                               0.26.2\r\n",
      "argon2-cffi                        20.1.0\r\n",
      "asn1crypto                         1.4.0\r\n",
      "astroid                            2.5\r\n",
      "astropy                            4.2.1\r\n",
      "async-generator                    1.10\r\n",
      "atomicwrites                       1.4.0\r\n",
      "attrs                              20.3.0\r\n",
      "autopep8                           1.5.6\r\n",
      "Babel                              2.9.0\r\n",
      "backcall                           0.2.0\r\n",
      "backports.functools-lru-cache      1.6.4\r\n",
      "backports.shutil-get-terminal-size 1.0.0\r\n",
      "backports.tempfile                 1.0\r\n",
      "backports.weakref                  1.0.post1\r\n",
      "beautifulsoup4                     4.9.3\r\n",
      "bitarray                           1.9.2\r\n",
      "bkcharts                           0.2\r\n",
      "black                              19.10b0\r\n",
      "bleach                             3.3.0\r\n",
      "bokeh                              2.3.2\r\n",
      "boto                               2.49.0\r\n",
      "Bottleneck                         1.3.2\r\n",
      "brotlipy                           0.7.0\r\n",
      "certifi                            2020.12.5\r\n",
      "cffi                               1.14.5\r\n",
      "chainer                            3.3.0\r\n",
      "chardet                            4.0.0\r\n",
      "click                              7.1.2\r\n",
      "cloudpickle                        1.6.0\r\n",
      "clyent                             1.2.2\r\n",
      "colorama                           0.4.4\r\n",
      "conda                              4.10.1\r\n",
      "conda-build                        3.21.4\r\n",
      "conda-content-trust                0+unknown\r\n",
      "conda-package-handling             1.7.3\r\n",
      "conda-repo-cli                     1.0.4\r\n",
      "conda-token                        0.3.0\r\n",
      "conda-verify                       3.4.2\r\n",
      "contextlib2                        0.6.0.post1\r\n",
      "cryptography                       3.4.7\r\n",
      "cycler                             0.10.0\r\n",
      "Cython                             0.29.23\r\n",
      "cytoolz                            0.11.0\r\n",
      "dask                               2021.4.0\r\n",
      "decorator                          5.0.6\r\n",
      "defusedxml                         0.7.1\r\n",
      "diff-match-patch                   20200713\r\n",
      "distributed                        2021.4.0\r\n",
      "docutils                           0.17\r\n",
      "entrypoints                        0.3\r\n",
      "et-xmlfile                         1.0.1\r\n",
      "fastcache                          1.1.0\r\n",
      "filelock                           3.0.12\r\n",
      "flake8                             3.9.0\r\n",
      "Flask                              1.1.2\r\n",
      "fsspec                             0.9.0\r\n",
      "future                             0.18.2\r\n",
      "gevent                             21.1.2\r\n",
      "glob2                              0.7\r\n",
      "gmpy2                              2.0.8\r\n",
      "greenlet                           1.0.0\r\n",
      "h5py                               2.10.0\r\n",
      "HeapDict                           1.0.1\r\n",
      "html5lib                           1.1\r\n",
      "idna                               2.10\r\n",
      "imageio                            2.9.0\r\n",
      "imagesize                          1.2.0\r\n",
      "importlib-metadata                 3.10.0\r\n",
      "iniconfig                          1.1.1\r\n",
      "intervaltree                       3.1.0\r\n",
      "ipykernel                          5.3.4\r\n",
      "ipython                            7.22.0\r\n",
      "ipython-genutils                   0.2.0\r\n",
      "ipywidgets                         7.6.3\r\n",
      "isort                              5.8.0\r\n",
      "itsdangerous                       1.1.0\r\n",
      "jdcal                              1.4.1\r\n",
      "jedi                               0.17.2\r\n",
      "Jinja2                             2.11.3\r\n",
      "joblib                             1.0.1\r\n",
      "json5                              0.9.5\r\n",
      "jsonschema                         3.2.0\r\n",
      "jupyter                            1.0.0\r\n",
      "jupyter-client                     6.1.12\r\n",
      "jupyter-console                    6.4.0\r\n",
      "jupyter-contrib-core               0.3.3\r\n",
      "jupyter-contrib-nbextensions       0.5.1\r\n",
      "jupyter-core                       4.7.1\r\n",
      "jupyter-highlight-selected-word    0.2.0\r\n",
      "jupyter-latex-envs                 1.4.6\r\n",
      "jupyter-nbextensions-configurator  0.4.1\r\n",
      "jupyter-packaging                  0.7.12\r\n",
      "jupyter-server                     1.4.1\r\n",
      "jupyterlab                         3.0.14\r\n",
      "jupyterlab-pygments                0.1.2\r\n",
      "jupyterlab-server                  2.4.0\r\n",
      "jupyterlab-widgets                 1.0.0\r\n",
      "keyring                            22.3.0\r\n",
      "kiwisolver                         1.3.1\r\n",
      "lazy-object-proxy                  1.6.0\r\n",
      "libarchive-c                       2.9\r\n",
      "llvmlite                           0.36.0\r\n",
      "locket                             0.2.1\r\n",
      "lxml                               4.6.3\r\n",
      "MarkupSafe                         1.1.1\r\n",
      "matplotlib                         3.3.4\r\n",
      "mccabe                             0.6.1\r\n",
      "mistune                            0.8.4\r\n",
      "mkl-fft                            1.3.0\r\n",
      "mkl-random                         1.2.1\r\n",
      "mkl-service                        2.3.0\r\n",
      "mock                               4.0.3\r\n",
      "more-itertools                     8.7.0\r\n",
      "mpmath                             1.2.1\r\n",
      "msgpack                            1.0.2\r\n",
      "multipledispatch                   0.6.0\r\n",
      "mypy-extensions                    0.4.3\r\n",
      "navigator-updater                  0.2.1\r\n",
      "nbclassic                          0.2.6\r\n",
      "nbclient                           0.5.3\r\n",
      "nbconvert                          6.0.7\r\n",
      "nbformat                           5.1.3\r\n",
      "nest-asyncio                       1.5.1\r\n",
      "networkx                           2.5\r\n",
      "nltk                               3.6.1\r\n",
      "nose                               1.3.7\r\n",
      "notebook                           6.3.0\r\n",
      "numba                              0.53.1\r\n",
      "numexpr                            2.7.3\r\n",
      "numpy                              1.20.1\r\n",
      "numpydoc                           1.1.0\r\n",
      "olefile                            0.46\r\n",
      "openpyxl                           3.0.7\r\n",
      "packaging                          20.9\r\n",
      "pandas                             1.2.4\r\n",
      "pandocfilters                      1.4.3\r\n",
      "parso                              0.7.0\r\n",
      "partd                              1.2.0\r\n",
      "path                               15.1.2\r\n",
      "pathlib2                           2.3.5\r\n",
      "pathspec                           0.7.0\r\n",
      "patsy                              0.5.1\r\n",
      "pep8                               1.7.1\r\n",
      "pexpect                            4.8.0\r\n",
      "pickleshare                        0.7.5\r\n",
      "Pillow                             8.2.0\r\n",
      "pip                                21.0.1\r\n",
      "pkginfo                            1.7.0\r\n",
      "pluggy                             0.13.1\r\n",
      "ply                                3.11\r\n",
      "prometheus-client                  0.10.1\r\n",
      "prompt-toolkit                     3.0.17\r\n",
      "protobuf                           3.17.3\r\n",
      "psutil                             5.8.0\r\n",
      "ptyprocess                         0.7.0\r\n",
      "py                                 1.10.0\r\n",
      "pycodestyle                        2.6.0\r\n",
      "pycosat                            0.6.3\r\n",
      "pycparser                          2.20\r\n",
      "pycurl                             7.43.0.6\r\n",
      "pydocstyle                         6.0.0\r\n",
      "pyerfa                             1.7.3\r\n",
      "pyflakes                           2.2.0\r\n",
      "Pygments                           2.8.1\r\n",
      "pylint                             2.7.4\r\n",
      "pyls-black                         0.4.6\r\n",
      "pyls-spyder                        0.3.2\r\n",
      "pyodbc                             4.0.0-unsupported\r\n",
      "pyOpenSSL                          20.0.1\r\n",
      "pyparsing                          2.4.7\r\n",
      "pyrsistent                         0.17.3\r\n",
      "PySocks                            1.7.1\r\n",
      "pytest                             6.2.3\r\n",
      "python-dateutil                    2.8.1\r\n",
      "python-jsonrpc-server              0.4.0\r\n",
      "python-language-server             0.36.2\r\n",
      "pytz                               2021.1\r\n",
      "PyWavelets                         1.1.1\r\n",
      "PyYAML                             5.4.1\r\n",
      "pyzmq                              20.0.0\r\n",
      "QDarkStyle                         2.8.1\r\n",
      "QtAwesome                          1.0.2\r\n",
      "qtconsole                          5.0.3\r\n",
      "QtPy                               1.9.0\r\n",
      "regex                              2021.4.4\r\n",
      "requests                           2.25.1\r\n",
      "rope                               0.18.0\r\n",
      "Rtree                              0.9.7\r\n",
      "ruamel-yaml-conda                  0.15.100\r\n",
      "scikit-image                       0.18.1\r\n",
      "scikit-learn                       0.24.1\r\n",
      "scipy                              1.6.2\r\n",
      "seaborn                            0.11.1\r\n",
      "Send2Trash                         1.5.0\r\n",
      "setuptools                         52.0.0.post20210125\r\n",
      "simplegeneric                      0.8.1\r\n",
      "singledispatch                     0.0.0\r\n",
      "six                                1.15.0\r\n",
      "sniffio                            1.2.0\r\n",
      "snowballstemmer                    2.1.0\r\n",
      "sortedcollections                  2.1.0\r\n",
      "sortedcontainers                   2.3.0\r\n",
      "soupsieve                          2.2.1\r\n",
      "Sphinx                             4.0.1\r\n",
      "sphinxcontrib-applehelp            1.0.2\r\n",
      "sphinxcontrib-devhelp              1.0.2\r\n",
      "sphinxcontrib-htmlhelp             1.0.3\r\n",
      "sphinxcontrib-jsmath               1.0.1\r\n",
      "sphinxcontrib-qthelp               1.0.3\r\n",
      "sphinxcontrib-serializinghtml      1.1.4\r\n",
      "sphinxcontrib-websupport           1.2.4\r\n",
      "spyder                             4.2.5\r\n",
      "spyder-kernels                     1.10.2\r\n",
      "SQLAlchemy                         1.4.7\r\n",
      "statsmodels                        0.12.2\r\n",
      "sympy                              1.8\r\n",
      "tables                             3.6.1\r\n",
      "tblib                              1.7.0\r\n",
      "terminado                          0.9.4\r\n",
      "testpath                           0.4.4\r\n",
      "textdistance                       4.2.1\r\n",
      "threadpoolctl                      2.1.0\r\n",
      "three-merge                        0.1.1\r\n",
      "tifffile                           2020.10.1\r\n",
      "toml                               0.10.2\r\n",
      "toolz                              0.11.1\r\n",
      "tornado                            6.1\r\n",
      "tqdm                               4.59.0\r\n",
      "traitlets                          5.0.5\r\n",
      "typed-ast                          1.4.2\r\n",
      "typing-extensions                  3.7.4.3\r\n",
      "ujson                              4.0.2\r\n",
      "unicodecsv                         0.14.1\r\n",
      "urllib3                            1.26.4\r\n",
      "watchdog                           1.0.2\r\n",
      "wcwidth                            0.2.5\r\n",
      "webencodings                       0.5.1\r\n",
      "Werkzeug                           1.0.1\r\n",
      "wheel                              0.36.2\r\n",
      "widgetsnbextension                 3.5.1\r\n",
      "wrapt                              1.12.1\r\n",
      "wurlitzer                          2.1.0\r\n",
      "xlrd                               2.0.1\r\n",
      "XlsxWriter                         1.3.8\r\n",
      "xlwings                            0.23.0\r\n",
      "xlwt                               1.3.0\r\n",
      "xmltodict                          0.12.0\r\n",
      "yapf                               0.31.0\r\n",
      "zict                               2.0.0\r\n",
      "zipp                               3.4.1\r\n",
      "zope.event                         4.5.0\r\n",
      "zope.interface                     5.3.0\r\n"
     ]
    }
   ],
   "source": [
    "!pip list"
   ]
  },
  {
   "cell_type": "code",
   "execution_count": 1,
   "id": "eae2e3fb",
   "metadata": {},
   "outputs": [],
   "source": [
    "import os\n",
    "from skimage import io"
   ]
  },
  {
   "cell_type": "code",
   "execution_count": 2,
   "id": "2ee99338",
   "metadata": {},
   "outputs": [],
   "source": [
    "image_path = os.path.join('train', 'train_1.tif')\n",
    "image = io.imread(image_path)"
   ]
  },
  {
   "cell_type": "code",
   "execution_count": 3,
   "id": "87aeff11",
   "metadata": {},
   "outputs": [
    {
     "name": "stdout",
     "output_type": "stream",
     "text": [
      "(32, 32, 7)\n"
     ]
    }
   ],
   "source": [
    "print(image.shape) #7バンド"
   ]
  },
  {
   "cell_type": "code",
   "execution_count": 4,
   "id": "41c3c4d4",
   "metadata": {},
   "outputs": [],
   "source": [
    "import matplotlib.pyplot as plt\n",
    "%matplotlib inline"
   ]
  },
  {
   "cell_type": "code",
   "execution_count": 5,
   "id": "f8806fe3",
   "metadata": {},
   "outputs": [
    {
     "data": {
      "image/png": "[encoded data removed]",
      "text/plain": [
       "<Figure size 720x216 with 7 Axes>"
      ]
     },
     "metadata": {
      "needs_background": "light"
     },
     "output_type": "display_data"
    }
   ],
   "source": [
    "fig, (ax0, ax1, ax2, ax3, ax4, ax5, ax6) = plt.subplots(nrows=1, ncols=7, figsize=(10,3))\n",
    "\n",
    "ax0.imshow(image[:,:,0])\n",
    "ax0.set_title('B1')\n",
    "ax0.axis('off')\n",
    "ax0.set_adjustable('box')\n",
    "\n",
    "ax1.imshow(image[:,:,1])\n",
    "ax1.set_title('B2(B)')\n",
    "ax1.axis('off')\n",
    "ax1.set_adjustable('box')\n",
    "\n",
    "ax2.imshow(image[:,:,2])\n",
    "ax2.set_title('B3(G)')\n",
    "ax2.axis('off')\n",
    "ax2.set_adjustable('box')\n",
    "\n",
    "ax3.imshow(image[:,:,3])\n",
    "ax3.set_title('B4(R)')\n",
    "ax3.axis('off')\n",
    "ax3.set_adjustable('box')\n",
    "\n",
    "ax4.imshow(image[:,:,4])\n",
    "ax4.set_title('B5')\n",
    "ax4.axis('off')\n",
    "ax4.set_adjustable('box')\n",
    "\n",
    "ax5.imshow(image[:,:,5])\n",
    "ax5.set_title('B6')\n",
    "ax5.axis('off')\n",
    "ax5.set_adjustable('box')\n",
    "\n",
    "ax6.imshow(image[:,:,6])\n",
    "ax6.set_title('B7')\n",
    "ax6.axis('off')\n",
    "ax6.set_adjustable('box')\n",
    "\n",
    "fig.tight_layout()\n",
    "                "
   ]
  },
  {
   "cell_type": "code",
   "execution_count": 9,
   "id": "40c1d81b",
   "metadata": {},
   "outputs": [
    {
     "name": "stdout",
     "output_type": "stream",
     "text": [
      "Requirement already satisfied: pandas in /Users/user/opt/anaconda3/envs/MARS/lib/python3.6/site-packages (1.1.5)\r\n",
      "Requirement already satisfied: pytz>=2017.2 in /Users/user/opt/anaconda3/envs/MARS/lib/python3.6/site-packages (from pandas) (2021.1)\r\n",
      "Requirement already satisfied: numpy>=1.15.4 in /Users/user/opt/anaconda3/envs/MARS/lib/python3.6/site-packages (from pandas) (1.19.5)\r\n",
      "Requirement already satisfied: python-dateutil>=2.7.3 in /Users/user/opt/anaconda3/envs/MARS/lib/python3.6/site-packages (from pandas) (2.8.1)\r\n",
      "Requirement already satisfied: six>=1.5 in /Users/user/opt/anaconda3/envs/MARS/lib/python3.6/site-packages (from python-dateutil>=2.7.3->pandas) (1.16.0)\r\n"
     ]
    },
    {
     "data": {
      "text/html": [
       "<div>\n",
       "<style scoped>\n",
       "    .dataframe tbody tr th:only-of-type {\n",
       "        vertical-align: middle;\n",
       "    }\n",
       "\n",
       "    .dataframe tbody tr th {\n",
       "        vertical-align: top;\n",
       "    }\n",
       "\n",
       "    .dataframe thead th {\n",
       "        text-align: right;\n",
       "    }\n",
       "</style>\n",
       "<table border=\"1\" class=\"dataframe\">\n",
       "  <thead>\n",
       "    <tr style=\"text-align: right;\">\n",
       "      <th></th>\n",
       "      <th>file_name</th>\n",
       "      <th>flag</th>\n",
       "    </tr>\n",
       "  </thead>\n",
       "  <tbody>\n",
       "    <tr>\n",
       "      <th>0</th>\n",
       "      <td>train_0.tif</td>\n",
       "      <td>0</td>\n",
       "    </tr>\n",
       "    <tr>\n",
       "      <th>1</th>\n",
       "      <td>train_1.tif</td>\n",
       "      <td>0</td>\n",
       "    </tr>\n",
       "    <tr>\n",
       "      <th>2</th>\n",
       "      <td>train_2.tif</td>\n",
       "      <td>0</td>\n",
       "    </tr>\n",
       "    <tr>\n",
       "      <th>3</th>\n",
       "      <td>train_3.tif</td>\n",
       "      <td>0</td>\n",
       "    </tr>\n",
       "    <tr>\n",
       "      <th>4</th>\n",
       "      <td>train_4.tif</td>\n",
       "      <td>0</td>\n",
       "    </tr>\n",
       "  </tbody>\n",
       "</table>\n",
       "</div>"
      ],
      "text/plain": [
       "     file_name  flag\n",
       "0  train_0.tif     0\n",
       "1  train_1.tif     0\n",
       "2  train_2.tif     0\n",
       "3  train_3.tif     0\n",
       "4  train_4.tif     0"
      ]
     },
     "execution_count": 9,
     "metadata": {},
     "output_type": "execute_result"
    }
   ],
   "source": [
    "!pip install pandas\n",
    "import pandas as pd\n",
    "data = pd.read_csv('train_master.tsv', sep='\\t')\n",
    "data.head()"
   ]
  },
  {
   "cell_type": "code",
   "execution_count": 11,
   "id": "112c1181",
   "metadata": {},
   "outputs": [
    {
     "name": "stdout",
     "output_type": "stream",
     "text": [
      "<class 'pandas.core.frame.DataFrame'>\n",
      "RangeIndex: 296182 entries, 0 to 296181\n",
      "Data columns (total 2 columns):\n",
      " #   Column     Non-Null Count   Dtype \n",
      "---  ------     --------------   ----- \n",
      " 0   file_name  296182 non-null  object\n",
      " 1   flag       296182 non-null  int64 \n",
      "dtypes: int64(1), object(1)\n",
      "memory usage: 4.5+ MB\n"
     ]
    }
   ],
   "source": [
    "data.info()"
   ]
  },
  {
   "cell_type": "code",
   "execution_count": 7,
   "id": "2c1196ba",
   "metadata": {},
   "outputs": [
    {
     "name": "stdout",
     "output_type": "stream",
     "text": [
      "正例： 12442\n",
      "負例： 283740\n",
      "合計： 296182\n"
     ]
    }
   ],
   "source": [
    "print('正例：',(data['flag'].values ==1).sum())\n",
    "print('負例：',(data['flag'].values == 0).sum())\n",
    "print('合計：',data.shape[0])"
   ]
  },
  {
   "cell_type": "code",
   "execution_count": 8,
   "id": "816903c7",
   "metadata": {},
   "outputs": [
    {
     "name": "stderr",
     "output_type": "stream",
     "text": [
      "/Users/user/opt/anaconda3/envs/MARS/lib/python3.6/site-packages/seaborn/distributions.py:2557: FutureWarning: `distplot` is a deprecated function and will be removed in a future version. Please adapt your code to use either `displot` (a figure-level function with similar flexibility) or `histplot` (an axes-level function for histograms).\n",
      "  warnings.warn(msg, FutureWarning)\n"
     ]
    },
    {
     "data": {
      "text/plain": [
       "<AxesSubplot:xlabel='flag', ylabel='Density'>"
      ]
     },
     "execution_count": 8,
     "metadata": {},
     "output_type": "execute_result"
    },
    {
     "data": {
      "image/png": "[encoded data removed]",
      "text/plain": [
       "<Figure size 432x288 with 1 Axes>"
      ]
     },
     "metadata": {
      "needs_background": "light"
     },
     "output_type": "display_data"
    }
   ],
   "source": [
    "import seaborn as sns\n",
    "sns.distplot(data['flag'])"
   ]
  },
  {
   "cell_type": "code",
   "execution_count": 8,
   "id": "82528ba9",
   "metadata": {},
   "outputs": [],
   "source": [
    "from skimage import exposure"
   ]
  },
  {
   "cell_type": "code",
   "execution_count": 9,
   "id": "d2685774",
   "metadata": {},
   "outputs": [],
   "source": [
    "image_rescaled = exposure.rescale_intensity(image)"
   ]
  },
  {
   "cell_type": "code",
   "execution_count": 10,
   "id": "9f0df418",
   "metadata": {},
   "outputs": [
    {
     "name": "stdout",
     "output_type": "stream",
     "text": [
      "最大値: 23325.0\n",
      "最小値: 6652.0\n"
     ]
    }
   ],
   "source": [
    "print('最大値:', image.max())\n",
    "print('最小値:', image.min())"
   ]
  },
  {
   "cell_type": "code",
   "execution_count": 11,
   "id": "e0d282ee",
   "metadata": {},
   "outputs": [
    {
     "name": "stdout",
     "output_type": "stream",
     "text": [
      "最大値: 1.0\n",
      "最小値: 0.0\n"
     ]
    }
   ],
   "source": [
    "print('最大値:', image_rescaled.max())\n",
    "print('最小値:', image_rescaled.min())"
   ]
  },
  {
   "cell_type": "code",
   "execution_count": 12,
   "id": "6e1b969d",
   "metadata": {},
   "outputs": [
    {
     "name": "stderr",
     "output_type": "stream",
     "text": [
      "/Users/user/opt/anaconda3/envs/MARS/lib/python3.6/site-packages/chainer/_environment_check.py:38: UserWarning: Accelerate has been detected as a NumPy backend library.\n",
      "vecLib, which is a part of Accelerate, is known not to work correctly with Chainer.\n",
      "We recommend using other BLAS libraries such as OpenBLAS.\n",
      "For details of the issue, please see\n",
      "https://docs.chainer.org/en/stable/tips.html#mnist-example-does-not-converge-in-cpu-mode-on-mac-os-x.\n",
      "\n",
      "Also note that Chainer does not officially support Mac OS X.\n",
      "Please use it at your own risk.\n",
      "\n",
      "  ''')  # NOQA\n"
     ]
    }
   ],
   "source": [
    "import chainer.functions as F\n",
    "import chainer.links as L\n",
    "from chainer import Chain"
   ]
  },
  {
   "cell_type": "code",
   "execution_count": 13,
   "id": "666281be",
   "metadata": {},
   "outputs": [],
   "source": [
    "class CNN(Chain):\n",
    "    def __init__(self,out_size):\n",
    "        super(CNN, self).__init__(\n",
    "                conv1 = L.Convolution2D(None, 32, 3, stride=2),\n",
    "                conv2 = L.Convolution2D(None, 32, 3, stride=2),\n",
    "                fc3 = L.Linear(None, 512),\n",
    "                fc4 = L.Linear(None, out_size))\n",
    "        self.train = True\n",
    "        \n",
    "    def __call__(self, x):\n",
    "        with chainer.using_config('enable_backprop', self.train):\n",
    "            h = F.max_pooling_2d(F.relu(self.conv1(x)), 2, stride=2)\n",
    "            h = F.max_pooling_2d(F.relu(self.conv2(h)), 2, stride=2)\n",
    "            h = F.relu(self.fc3(h))\n",
    "            y = self.fc4(h)\n",
    "\n",
    "            return y"
   ]
  },
  {
   "cell_type": "code",
   "execution_count": 14,
   "id": "3fcb4190",
   "metadata": {},
   "outputs": [],
   "source": [
    "model = CNN(out_size=2)"
   ]
  },
  {
   "cell_type": "code",
   "execution_count": 15,
   "id": "be2ab6c3",
   "metadata": {},
   "outputs": [],
   "source": [
    "from tqdm import tqdm_notebook as tqdm\n",
    "tqdm.monitor_interval = 0"
   ]
  },
  {
   "cell_type": "code",
   "execution_count": 16,
   "id": "fc64dd00",
   "metadata": {},
   "outputs": [],
   "source": [
    "def preprocess(image, mode = 'train'):\n",
    "    if mode == 'train':\n",
    "        if image.max() != image.min():\n",
    "            image = exposure.rescale_intensity(image)\n",
    "            \n",
    "    elif mode == 'val':\n",
    "        if image.max() != image.min():\n",
    "             image = exposure.rescale_intensity(image)\n",
    "                \n",
    "    elif mode == 'test':\n",
    "        if image.max() != image.min():\n",
    "             image = exposure.rescale_intensity(image)\n",
    "    \n",
    "    else:\n",
    "        if image.max() != image.min():\n",
    "             image = exposure.rescale_intensity(image)\n",
    "                \n",
    "    return image\n",
    "        "
   ]
  },
  {
   "cell_type": "code",
   "execution_count": 17,
   "id": "bac7da81",
   "metadata": {},
   "outputs": [
    {
     "data": {
      "text/plain": [
       "(32, 32, 7)"
      ]
     },
     "execution_count": 17,
     "metadata": {},
     "output_type": "execute_result"
    }
   ],
   "source": [
    "image.shape"
   ]
  },
  {
   "cell_type": "code",
   "execution_count": 18,
   "id": "ed1c8bd9",
   "metadata": {},
   "outputs": [],
   "source": [
    "def generate_minibatch(data_path, minibatch_meta, mode='train'):\n",
    "    images = []\n",
    "    if mode == 'train' or mode=='val':\n",
    "        labels = []\n",
    "    for data in minibatch_meta.iterrows():\n",
    "        im_path = os.path.join(data_path, data[1]['file_name'])\n",
    "        image = io.imread(im_path)\n",
    "        \n",
    "        image = preprocess(image, mode=mode)\n",
    "        image = image.transpose((2,0,1))#(7,32,32)\n",
    "        \n",
    "        if mode == 'train' or mode== 'val':\n",
    "            labels.append(data[1]['flag'])\n",
    "            \n",
    "        images.append(image)\n",
    "       # print(type(images))\n",
    "        \n",
    "    images = np.array(images)\n",
    "   # print(type(images))\n",
    "\n",
    "    if mode == 'train' or mode == 'val':\n",
    "        labels = np.array(labels)\n",
    "        \n",
    "        return images, labels\n",
    "    else:\n",
    "        return images"
   ]
  },
  {
   "cell_type": "code",
   "execution_count": 19,
   "id": "33602d57",
   "metadata": {},
   "outputs": [],
   "source": [
    "import numpy as np"
   ]
  },
  {
   "cell_type": "code",
   "execution_count": 20,
   "id": "bb92699c",
   "metadata": {},
   "outputs": [],
   "source": [
    "def split_data(data, ratio=0.95):\n",
    "    train_index = np.random.choice(data.index, int(len(data)*ratio), replace=False)#\n",
    "    val_index = list(set(data.index).difference(set(train_index)))\n",
    "    train = data.iloc[train_index].copy()\n",
    "    val = data.iloc[val_index].copy() \n",
    "    \n",
    "    return train, val"
   ]
  },
  {
   "cell_type": "code",
   "execution_count": 21,
   "id": "85209699",
   "metadata": {},
   "outputs": [],
   "source": [
    "def IOU(y_true, y_pred):\n",
    "    y_true = np.array(y_true)\n",
    "    y_pred = np.array(y_pred)\n",
    "    p_true_index = np.where(y_true==1)[0]\n",
    "    p_pred_index = np.where(y_pred==1)[0]\n",
    "    union = set(p_true_index).union(set(p_pred_index))\n",
    "    interection = set(p_true_index).intersection(set(p_pred_index))\n",
    "    \n",
    "    if len(union) ==0:\n",
    "        return 0\n",
    "    else:\n",
    "        return len(interection)/len(union)"
   ]
  },
  {
   "cell_type": "code",
   "execution_count": 22,
   "id": "acb946bf",
   "metadata": {},
   "outputs": [],
   "source": [
    "import chainer\n",
    "import chainer.cuda as cuda\n",
    "from chainer import optimizers, serializers"
   ]
  },
  {
   "cell_type": "code",
   "execution_count": 27,
   "id": "ab4632ab",
   "metadata": {},
   "outputs": [],
   "source": [
    "def train_model(model, train, val, data_path, model_name, batch_size=64,init_lr=0.01,num_epochs=30,gpu=False):\n",
    "    optimizer = optimizers.NesterovAG(lr=init_lr)\n",
    "    optimizer.setup(model)\n",
    "    optimizer.add_hook(chainer.optimizer.WeightDecay(0.001))\n",
    "    \n",
    "    best_score = 0\n",
    "    best_th = 0.5\n",
    "    th_tr = 0.5\n",
    "    th_val = 0.5\n",
    "    tr_num_positives = train['flag'].sum()\n",
    "    val_num_positives = val['flag'].sum()\n",
    "    \n",
    "    if gpu:\n",
    "        model.to_gpu()\n",
    "    epbar = tqdm(range(num_epochs))\n",
    "    \n",
    "    for epoch in epbar:\n",
    "        epbar.set_description('epoch{}'.format(epoch+1))\n",
    "        #train\n",
    "        batch_index = np.random.permutation(np.arange(len(train)) //batch_size)\n",
    "        train['batch_index'] = batch_index\n",
    "        num_samples = 0\n",
    "        count = 0\n",
    "        train_loss = 0\n",
    "        train_iou = 0\n",
    "        tr_proba = np.array([])\n",
    "        tr_true = np.array([])\n",
    "        pbar = tqdm(train.groupby('batch_index'), leave=False)\n",
    "        pbar.set_description('training')\n",
    "        \n",
    "        for t in pbar:\n",
    "            model.cleargrads()\n",
    "            minibatch, labels = generate_minibatch(data_path, t[1], mode = 'train')\n",
    "            weight = np.array([sum(labels)/len(labels), 1-sum(labels)/len(labels)]).astype(np.float32)\n",
    "            minibatch = minibatch.astype(np.float32)\n",
    "            labels = labels.astype(np.int32)\n",
    "            if gpu:\n",
    "                minibatch = cuda.to_gpu(minibatch)\n",
    "                labels = cuda.to_gpu(labels)\n",
    "                weight = cuda.to_gpu(weight)\n",
    "            \n",
    "            y = model(minibatch)\n",
    "            loss = F.softmax_cross_entropy(y, labels, class_weight = weight)\n",
    "            loss.backward()\n",
    "            optimizer.update()\n",
    "            y_proba = cuda.to_cpu(F.softmax(y).data)[:,-1]\n",
    "            y_pred = (y_proba > th_tr).astype(np.int)\n",
    "            tr_proba = np.concatenate((tr_proba, y_proba))\n",
    "            labels = cuda.to_cpu(labels)\n",
    "            tr_true = np.concatenate((tr_true, labels))\n",
    "            train_loss += float(loss.data)*len(minibatch)\n",
    "            train_iou += IOU(labels, y_pred)\n",
    "            num_samples += len(minibatch)\n",
    "            count += 1\n",
    "            pbar.set_postfix(IOU=round(train_iou/count,4), loss=round(train_loss/num_samples, 4), th=round(th_tr, 2))\n",
    "        \n",
    "        pbar.close()\n",
    "        train_iou = IOU(tr_true, (tr_proba>th_tr).astype(np.int))\n",
    "        \n",
    "        # validation\n",
    "        val_proba = np.array([])\n",
    "        val_true = np.array([])\n",
    "        batch_index = np.random.permutation(np.arange(len(val))//batch_size)\n",
    "        val['batch_index']=batch_index\n",
    "        count = 0\n",
    "        val_iou = 0\n",
    "        model.train = False\n",
    "        pbar = tqdm(val.groupby('batch_index'), leave=False)\n",
    "        pbar.set_description('validating')\n",
    "        for v in pbar:\n",
    "            minibatch, labels = generate_minibatch(data_path, v[1], mode = 'val')\n",
    "            minibatch = minibatch.astype(np.float32)\n",
    "            labels = labels.astype(np.int32)\n",
    "            if gpu:\n",
    "                minibatch = cuda.to_gpu(minibatch)\n",
    "            y = model(minibatch)\n",
    "            y_proba = cuda.to_cpu(F.softmax(y).data)[:,-1]\n",
    "            y_pred = (y_proba > th_val).astype(np.int)\n",
    "            val_proba = np.concatenate((val_proba, y_proba))\n",
    "            val_true = np.concatenate((val_true, labels))\n",
    "            count+=1\n",
    "            val_iou += IOU(labels, y_pred)\n",
    "            pbar.set_postfix(IOU=round(val_iou/count, 4), th=round(th_val, 2))\n",
    "        pbar.close()\n",
    "        val_iou = IOU(val_true, (val_proba>th_val).astype(np.int))\n",
    "        \n",
    "        \n",
    "        tr_proba.sort()\n",
    "        th_tr = tr_proba[-tr_num_positives]\n",
    "        val_proba.sort()\n",
    "        th_val = val_proba[-val_num_positives]\n",
    "\n",
    "        if best_score <= val_iou:\n",
    "            best_score = val_iou\n",
    "            best_th = th_val\n",
    "            serializers.save_npz(model_name.split('.')[0]+'_best.npz', model)\n",
    "        serializers.save_npz(model_name, model)\n",
    "        epbar.write('[epoch {}] train_iou:{}  val_iou:{}  best_iou:{}  best_th:{}'.format(epoch+1, round(train_iou,4), round(val_iou,4),\n",
    "                                                                                          round(best_score,4), round(best_th,4)))\n",
    "        \n",
    "        model.train = True\n",
    "\n",
    "    print('best IOU:', best_score, 'best threshold:', best_th)\n",
    "    return model"
   ]
  },
  {
   "cell_type": "code",
   "execution_count": 28,
   "id": "f484f3be",
   "metadata": {},
   "outputs": [
    {
     "name": "stdout",
     "output_type": "stream",
     "text": [
      "-------------------- train --------------------\n",
      "number of samples: 281372\n",
      "number of positives 11851\n",
      "number of negatives: 269521\n",
      "-----------------------------------------------\n",
      "-------------------- val --------------------\n",
      "number of samples: 14810\n",
      "number of positives 591\n",
      "number of negatives: 14219\n",
      "-----------------------------------------------\n"
     ]
    }
   ],
   "source": [
    "data_path = 'train'\n",
    "train, val = split_data(data, ratio=0.95)\n",
    "\n",
    "print('-'*20, 'train', '-'*20)\n",
    "print('number of samples:', len(train))\n",
    "print('number of positives', train['flag'].sum())\n",
    "print('number of negatives:', (1-train['flag']).sum())\n",
    "print('-'*47)\n",
    "\n",
    "\n",
    "print('-'*20, 'val', '-'*20)\n",
    "print('number of samples:', len(val))\n",
    "print('number of positives', val['flag'].sum())\n",
    "print('number of negatives:', (1-val['flag']).sum())\n",
    "print('-'*47)\n"
   ]
  },
  {
   "cell_type": "code",
   "execution_count": 29,
   "id": "ca34899e",
   "metadata": {},
   "outputs": [
    {
     "name": "stderr",
     "output_type": "stream",
     "text": [
      "/Users/user/opt/anaconda3/envs/MARS/lib/python3.6/site-packages/ipykernel_launcher.py:15: TqdmDeprecationWarning: This function will be removed in tqdm==5.0.0\n",
      "Please use `tqdm.notebook.tqdm` instead of `tqdm.tqdm_notebook`\n",
      "  from ipykernel import kernelapp as app\n"
     ]
    },
    {
     "data": {
      "application/vnd.jupyter.widget-view+json": {
       "model_id": "11a460bf75f74c57977b1d7b072234e7",
       "version_major": 2,
       "version_minor": 0
      },
      "text/plain": [
       "  0%|          | 0/5 [00:00<?, ?it/s]"
      ]
     },
     "metadata": {},
     "output_type": "display_data"
    },
    {
     "name": "stderr",
     "output_type": "stream",
     "text": [
      "/Users/user/opt/anaconda3/envs/MARS/lib/python3.6/site-packages/ipykernel_launcher.py:28: TqdmDeprecationWarning: This function will be removed in tqdm==5.0.0\n",
      "Please use `tqdm.notebook.tqdm` instead of `tqdm.tqdm_notebook`\n"
     ]
    },
    {
     "data": {
      "application/vnd.jupyter.widget-view+json": {
       "model_id": "",
       "version_major": 2,
       "version_minor": 0
      },
      "text/plain": [
       "  0%|          | 0/4397 [00:00<?, ?it/s]"
      ]
     },
     "metadata": {},
     "output_type": "display_data"
    },
    {
     "name": "stderr",
     "output_type": "stream",
     "text": [
      "/Users/user/opt/anaconda3/envs/MARS/lib/python3.6/site-packages/ipykernel_launcher.py:68: TqdmDeprecationWarning: This function will be removed in tqdm==5.0.0\n",
      "Please use `tqdm.notebook.tqdm` instead of `tqdm.tqdm_notebook`\n"
     ]
    },
    {
     "data": {
      "application/vnd.jupyter.widget-view+json": {
       "model_id": "",
       "version_major": 2,
       "version_minor": 0
      },
      "text/plain": [
       "  0%|          | 0/232 [00:00<?, ?it/s]"
      ]
     },
     "metadata": {},
     "output_type": "display_data"
    },
    {
     "name": "stdout",
     "output_type": "stream",
     "text": [
      "[epoch 1] train_iou:0.1297  val_iou:0.1126  best_iou:0.1126  best_th:0.8721\n"
     ]
    },
    {
     "data": {
      "application/vnd.jupyter.widget-view+json": {
       "model_id": "",
       "version_major": 2,
       "version_minor": 0
      },
      "text/plain": [
       "  0%|          | 0/4397 [00:00<?, ?it/s]"
      ]
     },
     "metadata": {},
     "output_type": "display_data"
    },
    {
     "data": {
      "application/vnd.jupyter.widget-view+json": {
       "model_id": "",
       "version_major": 2,
       "version_minor": 0
      },
      "text/plain": [
       "  0%|          | 0/232 [00:00<?, ?it/s]"
      ]
     },
     "metadata": {},
     "output_type": "display_data"
    },
    {
     "name": "stdout",
     "output_type": "stream",
     "text": [
      "[epoch 2] train_iou:0.212  val_iou:0.2178  best_iou:0.2178  best_th:0.8509\n"
     ]
    },
    {
     "data": {
      "application/vnd.jupyter.widget-view+json": {
       "model_id": "",
       "version_major": 2,
       "version_minor": 0
      },
      "text/plain": [
       "  0%|          | 0/4397 [00:00<?, ?it/s]"
      ]
     },
     "metadata": {},
     "output_type": "display_data"
    },
    {
     "data": {
      "application/vnd.jupyter.widget-view+json": {
       "model_id": "",
       "version_major": 2,
       "version_minor": 0
      },
      "text/plain": [
       "  0%|          | 0/232 [00:00<?, ?it/s]"
      ]
     },
     "metadata": {},
     "output_type": "display_data"
    },
    {
     "name": "stdout",
     "output_type": "stream",
     "text": [
      "[epoch 3] train_iou:0.2428  val_iou:0.2289  best_iou:0.2289  best_th:0.7885\n"
     ]
    },
    {
     "data": {
      "application/vnd.jupyter.widget-view+json": {
       "model_id": "",
       "version_major": 2,
       "version_minor": 0
      },
      "text/plain": [
       "  0%|          | 0/4397 [00:00<?, ?it/s]"
      ]
     },
     "metadata": {},
     "output_type": "display_data"
    },
    {
     "data": {
      "application/vnd.jupyter.widget-view+json": {
       "model_id": "",
       "version_major": 2,
       "version_minor": 0
      },
      "text/plain": [
       "  0%|          | 0/232 [00:00<?, ?it/s]"
      ]
     },
     "metadata": {},
     "output_type": "display_data"
    },
    {
     "name": "stdout",
     "output_type": "stream",
     "text": [
      "[epoch 4] train_iou:0.2575  val_iou:0.1893  best_iou:0.2289  best_th:0.7885\n"
     ]
    },
    {
     "data": {
      "application/vnd.jupyter.widget-view+json": {
       "model_id": "",
       "version_major": 2,
       "version_minor": 0
      },
      "text/plain": [
       "  0%|          | 0/4397 [00:00<?, ?it/s]"
      ]
     },
     "metadata": {},
     "output_type": "display_data"
    },
    {
     "data": {
      "application/vnd.jupyter.widget-view+json": {
       "model_id": "",
       "version_major": 2,
       "version_minor": 0
      },
      "text/plain": [
       "  0%|          | 0/232 [00:00<?, ?it/s]"
      ]
     },
     "metadata": {},
     "output_type": "display_data"
    },
    {
     "name": "stdout",
     "output_type": "stream",
     "text": [
      "[epoch 5] train_iou:0.26  val_iou:0.1161  best_iou:0.2289  best_th:0.7885\n",
      "best IOU: 0.22886297376093295 best threshold: 0.7885205149650574\n"
     ]
    }
   ],
   "source": [
    "model_name = 'CNN.nzp'\n",
    "model = train_model(model, train, val, data_path, model_name, num_epochs=5)"
   ]
  },
  {
   "cell_type": "code",
   "execution_count": 35,
   "id": "6844e3c0",
   "metadata": {},
   "outputs": [],
   "source": [
    "def predict(model, data_path, mode='test', batchsize=128, gpu=False, threshold=0.5):\n",
    "    data = pd.DataFrame()\n",
    "    data['file_name'] = os.listdir(data_path)\n",
    "    predictions = np.array([])\n",
    "    model.train = False\n",
    "    if gpu:\n",
    "        model.to_gpu()\n",
    "    data['batch']=np.arange(len(data))//batchsize\n",
    "    for t in tqdm(data.groupby('batch')):\n",
    "        minibatch = generate_minibatch(data_path, t[1], mode = mode)\n",
    "        minibatch = minibatch.astype(np.float32)\n",
    "        if gpu:\n",
    "            minibatch = cuda.to_gpu(minibatch)\n",
    "        y = model(minibatch)\n",
    "        y_proba = cuda.to_cpu(F.softmax(y).data)[:,-1]\n",
    "        y_pred = (y_proba>threshold).astype(np.int)\n",
    "        predictions = np.concatenate((predictions, y_pred))\n",
    "    data['prediction'] = predictions\n",
    "    del data['batch']\n",
    "    \n",
    "    return data\n",
    "    "
   ]
  },
  {
   "cell_type": "code",
   "execution_count": 36,
   "id": "f55d0332",
   "metadata": {},
   "outputs": [
    {
     "name": "stderr",
     "output_type": "stream",
     "text": [
      "/Users/user/opt/anaconda3/envs/MARS/lib/python3.6/site-packages/ipykernel_launcher.py:9: TqdmDeprecationWarning: This function will be removed in tqdm==5.0.0\n",
      "Please use `tqdm.notebook.tqdm` instead of `tqdm.tqdm_notebook`\n",
      "  if __name__ == '__main__':\n"
     ]
    },
    {
     "data": {
      "application/vnd.jupyter.widget-view+json": {
       "model_id": "ec7d018cad1746c48a46162f8691519b",
       "version_major": 2,
       "version_minor": 0
      },
      "text/plain": [
       "  0%|          | 0/729 [00:00<?, ?it/s]"
      ]
     },
     "metadata": {},
     "output_type": "display_data"
    }
   ],
   "source": [
    "# 評価用データが格納されているディレクトリを指定し、閾値を0.9に設定する\n",
    "data_path = 'test'\n",
    "threshold = 0.9\n",
    "\n",
    "# 学習済みのモデルをロードする\n",
    "model = CNN(out_size=2)\n",
    "model_name = 'CNN_best.npz'\n",
    "serializers.load_npz(model_name, model)\n",
    "\n",
    "# 予測結果を出力する\n",
    "submit = predict(model, data_path, threshold=threshold)"
   ]
  },
  {
   "cell_type": "code",
   "execution_count": 37,
   "id": "51df637c",
   "metadata": {},
   "outputs": [],
   "source": [
    "submit[['file_name', 'prediction']].to_csv('submit.tsv', sep='\\t', header=None, index=None)"
   ]
  },
  {
   "cell_type": "code",
   "execution_count": null,
   "id": "7a1f4942",
   "metadata": {},
   "outputs": [],
   "source": []
  },
  {
   "cell_type": "code",
   "execution_count": null,
   "id": "e000a05a",
   "metadata": {},
   "outputs": [],
   "source": []
  },
  {
   "cell_type": "code",
   "execution_count": null,
   "id": "7d39bfee",
   "metadata": {},
   "outputs": [],
   "source": []
  },
  {
   "cell_type": "code",
   "execution_count": null,
   "id": "3629dc25",
   "metadata": {},
   "outputs": [],
   "source": []
  }
 ],
 "metadata": {
  "kernelspec": {
   "display_name": "MARS",
   "language": "python",
   "name": "mars"
  },
  "language_info": {
   "codemirror_mode": {
    "name": "ipython",
    "version": 3
   },
   "file_extension": ".py",
   "mimetype": "text/x-python",
   "name": "python",
   "nbconvert_exporter": "python",
   "pygments_lexer": "ipython3",
   "version": "3.6.13"
  }
 },
 "nbformat": 4,
 "nbformat_minor": 5
}
